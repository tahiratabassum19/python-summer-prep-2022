{
 "cells": [
  {
   "cell_type": "markdown",
   "metadata": {},
   "source": [
    "# Problem Alphabet Slices\n",
    "* Store the first ten letters of the alphabet in a list.\n",
    "* Use a slice to print out the first three letters of the alphabet.\n",
    "* Use a slice to print out any three letters from the middle of your list."
   ]
  },
  {
   "cell_type": "code",
   "execution_count": 1,
   "metadata": {},
   "outputs": [
    {
     "name": "stdout",
     "output_type": "stream",
     "text": [
      "['a', 'b', 'c']\n",
      "['e', 'f', 'g']\n"
     ]
    }
   ],
   "source": [
    "# Solve Alphabet slices here. \n",
    "lis=['a','b','c','d','e','f','g','h','i','j']\n",
    "print(lis[0:3])\n",
    "\n",
    "print(lis[4:7])\n",
    "\n"
   ]
  },
  {
   "cell_type": "markdown",
   "metadata": {},
   "source": [
    "# Problem:  Covert all the rapper names to title case and save them into a new different list. \n",
    "example: lil wayne becomes Lil Wayne"
   ]
  },
  {
   "cell_type": "code",
   "execution_count": 2,
   "metadata": {},
   "outputs": [
    {
     "name": "stdout",
     "output_type": "stream",
     "text": [
      "['Lil Wayne', 'Nicki Minaj', 'Drake']\n"
     ]
    }
   ],
   "source": [
    "# Solve rapper names here\n",
    "rappers = ['lil wayne', 'nicki minaj', 'drake']\n",
    "title_rappers=[]\n",
    "\n",
    "for i in rappers:\n",
    "    rappers=i.title()\n",
    "    title_rappers.append(rappers)\n",
    "print(title_rappers)\n"
   ]
  },
  {
   "cell_type": "markdown",
   "metadata": {},
   "source": [
    "# Problem: Write a function thats input is a number and output is:\n",
    "* Return True if the input number is even.\n",
    "* Return False if the input number is odd."
   ]
  },
  {
   "cell_type": "code",
   "execution_count": 3,
   "metadata": {},
   "outputs": [
    {
     "data": {
      "text/plain": [
       "False"
      ]
     },
     "execution_count": 3,
     "metadata": {},
     "output_type": "execute_result"
    }
   ],
   "source": [
    "# Solve problem here\n",
    "def is_even(x):\n",
    "    if x%2==0:\n",
    "        return True\n",
    "    else:\n",
    "        return False \n",
    "is_even(55)\n",
    "\n"
   ]
  },
  {
   "cell_type": "markdown",
   "metadata": {},
   "source": [
    "# Problem: Find the sum and the average of this list of numbers.\n",
    "\n",
    "Try doing this using a loop.  Then try doing this without using a loop. "
   ]
  },
  {
   "cell_type": "code",
   "execution_count": 4,
   "metadata": {},
   "outputs": [
    {
     "name": "stdout",
     "output_type": "stream",
     "text": [
      "353 35\n"
     ]
    }
   ],
   "source": [
    "\n",
    "# Solve problem here:\n",
    "\n",
    "my_list = [1, 5, 10, 55, 88, 44, 42, 50, 20, 38]\n",
    "Sum=0\n",
    "for i in my_list:\n",
    "    Sum+=i\n",
    "list_sum = Sum\n",
    "list_avg = Sum//len(my_list)\n",
    "\n",
    "#without loop\n",
    "list_sum=sum(my_list)\n",
    "list_avg=sum(my_list)//len(my_list)\n",
    "\n",
    "# Keep this as your last line in this cell.\n",
    "print(list_sum, list_avg)\n"
   ]
  },
  {
   "cell_type": "markdown",
   "metadata": {},
   "source": [
    "# Problem: Write a function that input is a number and output returns the following\n",
    "* If the input is divisible by three, return 'fizz'\n",
    "* If the input is divisible by five, return 'buzz'\n",
    "* If the input is divisible by three and by five, return 'fizzbuzz'\n",
    "* If the input is not divisible by three or five, return None."
   ]
  },
  {
   "cell_type": "code",
   "execution_count": 5,
   "metadata": {},
   "outputs": [
    {
     "name": "stdout",
     "output_type": "stream",
     "text": [
      "fizzbuzz\n"
     ]
    }
   ],
   "source": [
    "# Solve Problem fizzbuzz here:\n",
    "def fizz_buzz(x):\n",
    "    if (x%3==0 and x%5==0):\n",
    "        return 'fizzbuzz'\n",
    "    if x%3==0:\n",
    "        return 'fizz'\n",
    "    elif x%5==0:\n",
    "        return 'buzz'\n",
    "   \n",
    "    else:\n",
    "        return 'none'\n",
    "print(fizz_buzz(15))\n"
   ]
  },
  {
   "cell_type": "markdown",
   "metadata": {},
   "source": [
    "# Problem: \n",
    "Write a function that takes a list and returns a new list that contains all the elements of the first list minus all the duplicates.\n",
    "\n",
    "Example input and expected output\n",
    "\n",
    "input = [\"Michele\", \"Robin\", \"Sara\", \"Michele\"]\n",
    "\n",
    "expected output = ['Michele', 'Robin', 'Sara']\n"
   ]
  },
  {
   "cell_type": "code",
   "execution_count": 6,
   "metadata": {},
   "outputs": [
    {
     "name": "stdout",
     "output_type": "stream",
     "text": [
      "['Michele', 'Robin', 'Sara']\n"
     ]
    }
   ],
   "source": [
    "\n",
    "# Solve problem here:\n",
    "\n",
    "names = [\"Michele\", \"Robin\", \"Sara\", \"Michele\"]\n",
    "no_duplicate=[]\n",
    "\n",
    "for i in names:\n",
    "    if i not in no_duplicate:\n",
    "        no_duplicate.append(i)\n",
    "print(no_duplicate)\n"
   ]
  },
  {
   "cell_type": "markdown",
   "metadata": {},
   "source": [
    "# Problem: \n",
    "Write a function that takes a list of numbers (for example, a = [5, 10, 15, 20, 25]) and returns a new list of only the first and last elements of the given list.\n",
    "\n",
    "Example input and expected output:\n",
    "\n",
    "input = [5, 10, 15, 20, 25]\n",
    "\n",
    "expected output = [5, 25]"
   ]
  },
  {
   "cell_type": "code",
   "execution_count": 7,
   "metadata": {},
   "outputs": [
    {
     "name": "stdout",
     "output_type": "stream",
     "text": [
      "[5, 25]\n"
     ]
    }
   ],
   "source": [
    "# Solve problem here:\n",
    "input_list = [5, 10, 99, 20, 25]\n",
    "def first_lastf(x):\n",
    "    first_last=[]\n",
    "    first_last.append(input_list[0])\n",
    "    first_last.append(input_list[-1])\n",
    "    return first_last\n",
    "print(first_lastf(input_list))\n",
    "\n",
    "\n"
   ]
  },
  {
   "cell_type": "markdown",
   "metadata": {},
   "source": [
    "# Problem:  Implement a function that takes as input three variables, and returns the largest of the three. \n",
    "Do this without using the Python max() function! \n",
    "_*Note all three input numbers will always be different, no need to account for a tie._\n",
    "\n",
    "Example input and expected output:\n",
    "\n",
    "input = your_function(1, 5, 10)\n",
    "\n",
    "expected output:  10"
   ]
  },
  {
   "cell_type": "code",
   "execution_count": 10,
   "metadata": {},
   "outputs": [
    {
     "name": "stdout",
     "output_type": "stream",
     "text": [
      "100\n"
     ]
    }
   ],
   "source": [
    "\n",
    "def your_function(a, b, c):\n",
    "    if a>b and a>c:\n",
    "        return a\n",
    "    elif b>a and b>c:\n",
    "        return b\n",
    "    else:\n",
    "        return c\n",
    "print(your_function(100,4,99))\n",
    "        \n",
    "    # Fill in your code below and return max value of a, b, c\n",
    "\n",
    "\n"
   ]
  },
  {
   "cell_type": "code",
   "execution_count": 11,
   "metadata": {},
   "outputs": [
    {
     "data": {
      "text/plain": [
       "10"
      ]
     },
     "execution_count": 11,
     "metadata": {},
     "output_type": "execute_result"
    }
   ],
   "source": [
    "# Test to see if your function works properly.\n",
    "your_function(1, 5, 10)"
   ]
  },
  {
   "cell_type": "code",
   "execution_count": null,
   "metadata": {},
   "outputs": [],
   "source": []
  }
 ],
 "metadata": {
  "kernelspec": {
   "display_name": "Python 3 (ipykernel)",
   "language": "python",
   "name": "python3"
  },
  "language_info": {
   "codemirror_mode": {
    "name": "ipython",
    "version": 3
   },
   "file_extension": ".py",
   "mimetype": "text/x-python",
   "name": "python",
   "nbconvert_exporter": "python",
   "pygments_lexer": "ipython3",
   "version": "3.9.12"
  }
 },
 "nbformat": 4,
 "nbformat_minor": 4
}
